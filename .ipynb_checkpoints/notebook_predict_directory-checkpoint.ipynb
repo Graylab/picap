{
 "cells": [
  {
   "cell_type": "markdown",
   "id": "90f3b4ea-207f-4024-aa4b-61e090f1830c",
   "metadata": {},
   "source": [
    "# PiCAP and CAPSIF Prediction on a directory #\n",
    "\n",
    "### Put all your `pdb` files into the `input_pdb` directory before running ###\n",
    "### Results outputted to __`output_data/all_predictions.tsv and *_predictions.pdb`__ ###\n",
    "\n",
    "## Current settings for B Factor visualization: ##\n",
    "#### `BFactor =  0.0` : Nonbinder ####\n",
    "#### `BFactor = 99.9` : CAPSIF:2 Predicted Binding Region ####\n",
    "#### Practical note, the cutoff for PiCAP prediction is 0.23 ####"
   ]
  },
  {
   "cell_type": "markdown",
   "id": "78aa862f-247c-42bd-83f0-82efef739423",
   "metadata": {},
   "source": [
    "## Changeable Parameters ##\n",
    "\n",
    "`capsif_only` - do ONLY capsif2 (default: `False`)\n",
    "\n",
    "`picap_only` - do ONLY picap (default: `False`)\n",
    "\n",
    "`high_plddt` - use ONLY high pLDDT residues above the `plddt_cutoff` (default: `False`)\n",
    "\n",
    "`plddt_cutoff` - plddt cutoff when `high_plddt` is `True` (default: 70)"
   ]
  },
  {
   "cell_type": "markdown",
   "id": "97890d32-89b7-4f15-8571-c3dfb1b86133",
   "metadata": {},
   "source": [
    "## Change the input values then RUN ALL to get your results!!! ##"
   ]
  },
  {
   "cell_type": "code",
   "execution_count": 5,
   "id": "f386f46a-cc43-446b-9d74-ec0d03702c3e",
   "metadata": {},
   "outputs": [],
   "source": [
    "capsif_only = False\n",
    "picap_only = False\n",
    "high_plddt = True\n",
    "plddt_cutoff = 70"
   ]
  },
  {
   "cell_type": "code",
   "execution_count": 6,
   "id": "c6c37c11-8836-416f-9164-056e0c7bfe0b",
   "metadata": {},
   "outputs": [],
   "source": [
    "from run_both import *"
   ]
  },
  {
   "cell_type": "markdown",
   "id": "90ec36fb-caa5-444f-913b-7a43d944f88a",
   "metadata": {},
   "source": [
    "## Preprocess the directory ##"
   ]
  },
  {
   "cell_type": "code",
   "execution_count": 7,
   "id": "f4f33f47-e2aa-4e68-bc59-600cf60c75b6",
   "metadata": {},
   "outputs": [
    {
     "name": "stderr",
     "output_type": "stream",
     "text": [
      "  0%|          | 0/4 [00:00<?, ?it/s]"
     ]
    },
    {
     "name": "stdout",
     "output_type": "stream",
     "text": [
      "\n",
      "preprocessing...\n",
      "AF-Q15465-F1-model_v4\n"
     ]
    },
    {
     "name": "stderr",
     "output_type": "stream",
     "text": [
      " 75%|███████▌  | 3/4 [00:08<00:02,  2.73s/it]"
     ]
    },
    {
     "name": "stdout",
     "output_type": "stream",
     "text": [
      "shh\n"
     ]
    },
    {
     "name": "stderr",
     "output_type": "stream",
     "text": [
      "100%|██████████| 4/4 [00:16<00:00,  4.08s/it]\n"
     ]
    },
    {
     "name": "stdout",
     "output_type": "stream",
     "text": [
      "making CSVs for file input\n",
      "shh_0_highPL _highPL\n",
      "AF-Q15465-F1-model_v4_0_highPL _highPL\n",
      "Outputeed preprocessed files to:  ./pre_pdb/dataset_pdb  and ./pre_pdb/dataset_clust .csv\n"
     ]
    }
   ],
   "source": [
    "run_preprocess(high_plddt,plddt_cutoff)"
   ]
  },
  {
   "cell_type": "markdown",
   "id": "b773195c-265d-498e-bb5e-f2c9c7f8ce64",
   "metadata": {},
   "source": [
    "## Predict the directory ##"
   ]
  },
  {
   "cell_type": "code",
   "execution_count": 8,
   "id": "1faba789-ec00-4f7d-846f-2411cc154da8",
   "metadata": {},
   "outputs": [
    {
     "name": "stderr",
     "output_type": "stream",
     "text": [
      "  0%|          | 0/2 [00:00<?, ?it/s]"
     ]
    },
    {
     "name": "stdout",
     "output_type": "stream",
     "text": [
      "Loading Capsif2...\n",
      "Using: cpu\n",
      "Capsif2 loaded\n"
     ]
    },
    {
     "name": "stderr",
     "output_type": "stream",
     "text": [
      "100%|██████████| 2/2 [00:03<00:00,  1.81s/it]\n"
     ]
    },
    {
     "name": "stdout",
     "output_type": "stream",
     "text": [
      "\n",
      "\t------Capsif2 results-------\n",
      "shh_0_highPL:126 A ,133 A ,134 A ,140 A ,147 A ,176 A ,177 A ,180 A ,182 A ,\n",
      "AF-Q15465-F1-model_v4_0_highPL:126 A ,133 A ,134 A ,140 A ,147 A ,176 A ,177 A ,180 A ,182 A ,\n"
     ]
    },
    {
     "name": "stderr",
     "output_type": "stream",
     "text": [
      "/Users/scanner1/opt/anaconda3/lib/python3.8/site-packages/torch/cuda/amp/grad_scaler.py:126: UserWarning: torch.cuda.amp.GradScaler is enabled, but CUDA is not available.  Disabling.\n",
      "  warnings.warn(\n",
      "  0%|          | 0/2 [00:00<?, ?it/s]"
     ]
    },
    {
     "name": "stdout",
     "output_type": "stream",
     "text": [
      "\n",
      "\n",
      "\n",
      "loading PiCAP\n",
      "Using: cpu\n",
      "cpu\n",
      "PiCAP loaded\n",
      "Running Predictions...\n"
     ]
    },
    {
     "name": "stderr",
     "output_type": "stream",
     "text": [
      "100%|██████████| 2/2 [00:27<00:00, 13.62s/it]"
     ]
    },
    {
     "name": "stdout",
     "output_type": "stream",
     "text": [
      "\n",
      "\t------PiCAP results-------\n",
      "shh_0_highPL , 0.29668567\n",
      "AF-Q15465-F1-model_v4_0_highPL , 0.29668567\n",
      "\n",
      "\n",
      "\n",
      "\n",
      "Total output:\n",
      "shh_0_highPL\t0.2967\t126 A ,133 A ,134 A ,140 A ,147 A ,176 A ,177 A ,180 A ,182 A ,\n",
      "AF-Q15465-F1-model_v4_0_highPL\t0.2967\t126 A ,133 A ,134 A ,140 A ,147 A ,176 A ,177 A ,180 A ,182 A ,\n",
      "\n",
      "\n",
      "Fin.\n"
     ]
    },
    {
     "name": "stderr",
     "output_type": "stream",
     "text": [
      "\n"
     ]
    }
   ],
   "source": [
    "_, _, _, _ = run_it_all(not capsif_only,not picap_only)"
   ]
  },
  {
   "cell_type": "code",
   "execution_count": null,
   "id": "95886232-18bb-4ef4-a3b5-f27948786cab",
   "metadata": {},
   "outputs": [],
   "source": []
  },
  {
   "cell_type": "code",
   "execution_count": null,
   "id": "0395654f-e2e8-4832-ad9a-2a87de9af598",
   "metadata": {},
   "outputs": [],
   "source": []
  }
 ],
 "metadata": {
  "kernelspec": {
   "display_name": "Python 3",
   "language": "python",
   "name": "python3"
  },
  "language_info": {
   "codemirror_mode": {
    "name": "ipython",
    "version": 3
   },
   "file_extension": ".py",
   "mimetype": "text/x-python",
   "name": "python",
   "nbconvert_exporter": "python",
   "pygments_lexer": "ipython3",
   "version": "3.8.8"
  },
  "toc-showmarkdowntxt": false
 },
 "nbformat": 4,
 "nbformat_minor": 5
}
